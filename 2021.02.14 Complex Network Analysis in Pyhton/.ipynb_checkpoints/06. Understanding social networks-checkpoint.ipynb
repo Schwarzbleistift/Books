{
 "cells": [
  {
   "cell_type": "markdown",
   "metadata": {},
   "source": [
    "Individuals, groups, and organizations also form networks. Such networks are called social networks. \n",
    "\n",
    "# 1. Understand Egocentric and Socioentric Networks\n",
    "## 1.1 Egocentric Networks\n",
    "An egocentric network (or ego network, for short) is the social network of a particular individual. An ego network includes all the individual’s contacts and all the relationships among them. The central node of an ego network is referred to as **ego** (as in egoism and alter ego); all the other nodes are called **alter** (as in alternative and alter ego, again).\n",
    "## 1.2 Sociocentric Networks\n",
    "A sociocentric network, or just a social network, is any social network that is not egocentric. Ideally, a sociocentric network is a combination of the ego networks of all egos and includes all relevant (whatever it means to you as a researcher) alters.\n",
    "\n",
    "A non-trivial social network, regardless of its size, is a complex network. What makes it distinctive is not the size but the interpretation: the social theories that stand behind the degree distributions, centralities, local network topology, community structure, and network evolution.\n",
    "\n",
    "|Network property|Examples of social interpretation|\n",
    "|:-|:-|\n",
    "|Local topology|**Structural equivalence**: if two actors have similar connections to other actors, they are similar or equivalent;<br>**Triadic closure**: two friends of an actor eventually become friends;<br>**Balance theory**: a friend of friend is a friend, a friend of a foe is a foe, and so on.|\n",
    "|Degree and eigenvector centrality|**Social capital**: an actor produces common good for the friends.<br>**Influence**: an actor causes a change in behavior in the friends.|\n",
    "|Closeness centrality|**Influence**: see above.<br>**Information dissemination/diffusion**: how good are actors in broadcasting or sharing information?|\n",
    "|Betweenness centrality|**Information dissemination**: see above.<br>**Brokerage**: how good are actors in serving as “go-betweens”?|\n",
    "|Community structure|**Homophily (cognitive balance)**: “birds of a feather flock together.”<br>**Knowledge preservation**: actors in tightly knit communities preserve knowledge.<br>**Complex contagion**: a gang of interconnected infected actors is a source of contagion.|\n",
    "|Degree distribution|**Small world (six degrees of separation)**: any two actors on average are connected by six “handshakes\".<br>**Friendship paradox**: “my friends have more friends than I do.”|\n",
    "|Network dynamics|**Preferential attachment (Pareto principle)**: “the [actors] rich [in friends] get richer.”|\n",
    "\n",
    "## 1.3 Signed Networks\n",
    "Some social (and not only social) networks belong to a class of signed (as opposed to unsigned) networks. There is not much special about them—except that they are weighted, and the weights can take negative values. Signed networks are dangerous because their visual inspection does not reveal the true meaning of signed ties. Any network analysis algorithm that disregards weights would be fooled into believing that a tie is an indicator of proximity.\n",
    "\n",
    "# 2. Recognize Communication Networks\n",
    "A social communication network is a social network where the edges represent a communication relation. In other words, two actors are adjacent if they directly communicate or have a propensity for direct communication.\n",
    "\n",
    "# 3. Appreciate Synthetic Networks\n",
    "Synthetic networks are a cheap alternative to real-world, empiric networks. "
   ]
  },
  {
   "cell_type": "code",
   "execution_count": null,
   "metadata": {},
   "outputs": [],
   "source": []
  },
  {
   "cell_type": "code",
   "execution_count": null,
   "metadata": {},
   "outputs": [],
   "source": []
  },
  {
   "cell_type": "code",
   "execution_count": null,
   "metadata": {},
   "outputs": [],
   "source": []
  },
  {
   "cell_type": "code",
   "execution_count": null,
   "metadata": {},
   "outputs": [],
   "source": []
  },
  {
   "cell_type": "code",
   "execution_count": null,
   "metadata": {},
   "outputs": [],
   "source": []
  },
  {
   "cell_type": "code",
   "execution_count": null,
   "metadata": {},
   "outputs": [],
   "source": []
  },
  {
   "cell_type": "code",
   "execution_count": null,
   "metadata": {},
   "outputs": [],
   "source": []
  },
  {
   "cell_type": "code",
   "execution_count": null,
   "metadata": {},
   "outputs": [],
   "source": []
  },
  {
   "cell_type": "code",
   "execution_count": null,
   "metadata": {},
   "outputs": [],
   "source": []
  },
  {
   "cell_type": "code",
   "execution_count": null,
   "metadata": {},
   "outputs": [],
   "source": []
  },
  {
   "cell_type": "code",
   "execution_count": null,
   "metadata": {},
   "outputs": [],
   "source": []
  },
  {
   "cell_type": "code",
   "execution_count": null,
   "metadata": {},
   "outputs": [],
   "source": []
  },
  {
   "cell_type": "code",
   "execution_count": null,
   "metadata": {},
   "outputs": [],
   "source": []
  },
  {
   "cell_type": "code",
   "execution_count": null,
   "metadata": {},
   "outputs": [],
   "source": []
  },
  {
   "cell_type": "code",
   "execution_count": null,
   "metadata": {},
   "outputs": [],
   "source": []
  },
  {
   "cell_type": "code",
   "execution_count": null,
   "metadata": {},
   "outputs": [],
   "source": []
  },
  {
   "cell_type": "code",
   "execution_count": null,
   "metadata": {},
   "outputs": [],
   "source": []
  },
  {
   "cell_type": "code",
   "execution_count": null,
   "metadata": {},
   "outputs": [],
   "source": []
  },
  {
   "cell_type": "code",
   "execution_count": null,
   "metadata": {},
   "outputs": [],
   "source": []
  },
  {
   "cell_type": "code",
   "execution_count": null,
   "metadata": {},
   "outputs": [],
   "source": []
  },
  {
   "cell_type": "code",
   "execution_count": null,
   "metadata": {},
   "outputs": [],
   "source": []
  },
  {
   "cell_type": "code",
   "execution_count": null,
   "metadata": {},
   "outputs": [],
   "source": []
  },
  {
   "cell_type": "code",
   "execution_count": null,
   "metadata": {},
   "outputs": [],
   "source": []
  },
  {
   "cell_type": "code",
   "execution_count": null,
   "metadata": {},
   "outputs": [],
   "source": []
  },
  {
   "cell_type": "code",
   "execution_count": null,
   "metadata": {},
   "outputs": [],
   "source": []
  },
  {
   "cell_type": "code",
   "execution_count": null,
   "metadata": {},
   "outputs": [],
   "source": []
  },
  {
   "cell_type": "code",
   "execution_count": null,
   "metadata": {},
   "outputs": [],
   "source": []
  }
 ],
 "metadata": {
  "kernelspec": {
   "display_name": "Python 3",
   "language": "python",
   "name": "python3"
  },
  "language_info": {
   "codemirror_mode": {
    "name": "ipython",
    "version": 3
   },
   "file_extension": ".py",
   "mimetype": "text/x-python",
   "name": "python",
   "nbconvert_exporter": "python",
   "pygments_lexer": "ipython3",
   "version": "3.8.5"
  }
 },
 "nbformat": 4,
 "nbformat_minor": 4
}
