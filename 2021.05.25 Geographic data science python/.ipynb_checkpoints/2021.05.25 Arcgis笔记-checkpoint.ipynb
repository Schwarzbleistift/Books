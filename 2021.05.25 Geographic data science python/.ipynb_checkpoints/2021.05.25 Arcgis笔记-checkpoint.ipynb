{
 "cells": [
  {
   "attachments": {
    "1.png": {
     "image/png": "[encoded data removed]"
    }
   },
   "cell_type": "markdown",
   "metadata": {},
   "source": [
    "### 1. multipoint/多点要素\n",
    "在相交分析（intersect）中，如果输入包含polygon，且输出选择了point，则输出的类型为multipoint。\n",
    "![1.png](attachment:1.png)\n",
    "**对于多点要素，其几何由一个或多个点组成**。地理处理工具基于要素（即多点内的所有点）生成结果。例如，对多点输入、多部分 (multipart) 线或面使用“近邻分析”工具时，将按照每个要素而不是多点内的每个点生成一个结果。\n",
    "\n",
    "可使用以下地理处理工具通过输入多点要素类生成其他类型的数据。\n",
    "\n",
    "- 多部件至单部件（multipart to singlepart）：获取多点要素中的每个点，为每个点创建一个要素，然后将结果写入输出点要素类中。\n",
    "- 要素至点(feature to point)：每个输入多点的单个点都会写入输出点要素类中。可使用该工具中的选项控制输出点将位于输入多点的**平衡位置（“质心”选项）**，还是只与其中一个**输入重合（“内部”选项）**。\n",
    "- 最小边界几何(Minimum Bounding Geometry)：包围输入多点所需的最小边界几何（凸包、圆或矩形）会写入输出面要素类中。\n",
    "\n",
    "另一个要注意的工具是“融合”，该工具将点用作输入并根据公共属性值生成多点，然后将多点写入多点要素类中。这基本上与“多部分(Multipart)至单部分(Singlepart)”工具的操作相反。\n",
    "\n"
   ]
  },
  {
   "cell_type": "code",
   "execution_count": null,
   "metadata": {},
   "outputs": [],
   "source": []
  },
  {
   "cell_type": "code",
   "execution_count": null,
   "metadata": {},
   "outputs": [],
   "source": []
  },
  {
   "cell_type": "code",
   "execution_count": null,
   "metadata": {},
   "outputs": [],
   "source": []
  },
  {
   "cell_type": "code",
   "execution_count": null,
   "metadata": {},
   "outputs": [],
   "source": []
  },
  {
   "cell_type": "code",
   "execution_count": null,
   "metadata": {},
   "outputs": [],
   "source": []
  },
  {
   "cell_type": "code",
   "execution_count": null,
   "metadata": {},
   "outputs": [],
   "source": []
  },
  {
   "cell_type": "code",
   "execution_count": null,
   "metadata": {},
   "outputs": [],
   "source": []
  },
  {
   "cell_type": "code",
   "execution_count": null,
   "metadata": {},
   "outputs": [],
   "source": []
  },
  {
   "cell_type": "code",
   "execution_count": null,
   "metadata": {},
   "outputs": [],
   "source": []
  },
  {
   "cell_type": "code",
   "execution_count": null,
   "metadata": {},
   "outputs": [],
   "source": []
  },
  {
   "cell_type": "code",
   "execution_count": null,
   "metadata": {},
   "outputs": [],
   "source": []
  },
  {
   "cell_type": "code",
   "execution_count": null,
   "metadata": {},
   "outputs": [],
   "source": []
  },
  {
   "cell_type": "code",
   "execution_count": null,
   "metadata": {},
   "outputs": [],
   "source": []
  },
  {
   "cell_type": "code",
   "execution_count": null,
   "metadata": {},
   "outputs": [],
   "source": []
  },
  {
   "cell_type": "code",
   "execution_count": null,
   "metadata": {},
   "outputs": [],
   "source": []
  },
  {
   "cell_type": "code",
   "execution_count": null,
   "metadata": {},
   "outputs": [],
   "source": []
  },
  {
   "cell_type": "code",
   "execution_count": null,
   "metadata": {},
   "outputs": [],
   "source": []
  },
  {
   "cell_type": "code",
   "execution_count": null,
   "metadata": {},
   "outputs": [],
   "source": []
  },
  {
   "cell_type": "code",
   "execution_count": null,
   "metadata": {},
   "outputs": [],
   "source": []
  },
  {
   "cell_type": "code",
   "execution_count": null,
   "metadata": {},
   "outputs": [],
   "source": []
  },
  {
   "cell_type": "code",
   "execution_count": null,
   "metadata": {},
   "outputs": [],
   "source": []
  },
  {
   "cell_type": "code",
   "execution_count": null,
   "metadata": {},
   "outputs": [],
   "source": []
  },
  {
   "cell_type": "code",
   "execution_count": null,
   "metadata": {},
   "outputs": [],
   "source": []
  }
 ],
 "metadata": {
  "kernelspec": {
   "display_name": "Python 3",
   "language": "python",
   "name": "python3"
  },
  "language_info": {
   "codemirror_mode": {
    "name": "ipython",
    "version": 3
   },
   "file_extension": ".py",
   "mimetype": "text/x-python",
   "name": "python",
   "nbconvert_exporter": "python",
   "pygments_lexer": "ipython3",
   "version": "3.8.5"
  }
 },
 "nbformat": 4,
 "nbformat_minor": 4
}
