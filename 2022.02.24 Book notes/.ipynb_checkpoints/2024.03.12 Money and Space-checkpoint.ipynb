{
 "cells": [
  {
   "cell_type": "markdown",
   "id": "24bd1d6e",
   "metadata": {},
   "source": [
    "# 1. Introduction\n",
    "The history of the instruments and institutions of finance points to 5 different forms of money:\n",
    "- 'primitive' or premodern money\n",
    "- commodity money\n",
    "- money of account\n",
    "- state money\n",
    "- virtual money\n",
    "\n",
    "None of these forms of monetary practice are destroyed by the succeeding form. Rather, they join with the preceding forms to produce new hybrid combinations. Each form can be though of as consisting of a particular set of **formal instruments of money**, a particular set of **financial institutions and practices**, and a broadly conceived set of **interpretations of what money is and what it does**. \n",
    "\n",
    "What matters much is the ability of money to perform 2 key roles in processes of economic exchange, namely a **medium of exchange** and a **store of value**. In performing these roles, money takes on 2 additional roles, as a **unit of account** and as a **means of payment**. The utility of money is that it acts both as *lubricant of exchange* and as an *independent expression of value*. But this duality of money also served to introduce an important dynamic into monetary forms and practices - The ability of different types of money to perform the functions of a medium of exchange and of a store of value tends to be **'inversely proportional'**. \n",
    "\n",
    "It is the differential performance of each type of monetary form which introduced a dynamic element within the evolution of money, so that the monetary system is characterised by a range of alternative and complementary forms of money. In certain circumstances the roles of medium of exchange and a store of value may be contracdictory, for if the value of money begins to fall while acting as a lubricant of exchange, money may be withdrawn from circulation owing to its ability to exist independently as a store of value. \n",
    "\n",
    "## 1.1 Premodern money\n",
    "Before money, exchange revolved around barter. The advantages of money over barter are obvious, but there is a consensus among historians and anthropologists that money did not arise in the first instance to circumvent the cumbersonme awkwardness of barter. Rather, the origins of money are cultural, inasmuch as the use of money arose in processes of exchange that were firmly non-economic in their orientation. \n",
    "\n",
    "*Objects originally accepted for one of either bride-money or blood-money, ornamental and ceremonial use, religious and political use, were often found to be useful for other non-economic purposes, just as they later, because of their growing acceptability, began to be used for general trading.*\n",
    "\n",
    "The evolutionary interpretation of money is closely associated with the work of Karl Polanyi who distinguished between 'primitive' and 'modern' money on the basis of the range of functions money performs. For Polanyi, modern money is 'all-purpopse' money, as it performs equally well all key functions as medium of exchange, store of value, unit of account and means of payment. Premodern money, meanwhile, performs some but not all of the key functions, and are described as 'special-' or 'limited-purpose' money. But there are also probles under this theory. Modern money may not always be general-purpose. E.g. Legal tender notes are rarely used to store value in practice. Checks, credit cards and bank drafts only serve as means of payment. \n",
    "\n",
    "The range of objects and materials to be used as premodern money is extremely large. The movement towards a more generalised money form is linked to the used of metallic-based premodern moneys. They were often made of a precious metal, which had a culturally determined economic value, which made them practically suited to serving as a medium of exchange. These premodern moneys readily served as the raw material for the manufacture of metal artefacts. Thus, they had a use value as well as an exchange value. The first step towards the creation of modern money came with efforts to standardise the appearance of premodern moneys. \n",
    "\n",
    "## 1.2 Commodity money"
   ]
  },
  {
   "cell_type": "code",
   "execution_count": null,
   "id": "32c1aedb",
   "metadata": {},
   "outputs": [],
   "source": []
  },
  {
   "cell_type": "code",
   "execution_count": null,
   "id": "0e12477f",
   "metadata": {},
   "outputs": [],
   "source": []
  },
  {
   "cell_type": "code",
   "execution_count": null,
   "id": "54a27a03",
   "metadata": {},
   "outputs": [],
   "source": []
  },
  {
   "cell_type": "code",
   "execution_count": null,
   "id": "0797338a",
   "metadata": {},
   "outputs": [],
   "source": []
  },
  {
   "cell_type": "code",
   "execution_count": null,
   "id": "51cfbba2",
   "metadata": {},
   "outputs": [],
   "source": []
  },
  {
   "cell_type": "code",
   "execution_count": null,
   "id": "f8787d53",
   "metadata": {},
   "outputs": [],
   "source": []
  },
  {
   "cell_type": "code",
   "execution_count": null,
   "id": "89ed69fa",
   "metadata": {},
   "outputs": [],
   "source": []
  },
  {
   "cell_type": "code",
   "execution_count": null,
   "id": "d68ab1dd",
   "metadata": {},
   "outputs": [],
   "source": []
  },
  {
   "cell_type": "code",
   "execution_count": null,
   "id": "a3a71dda",
   "metadata": {},
   "outputs": [],
   "source": []
  },
  {
   "cell_type": "code",
   "execution_count": null,
   "id": "e77d1566",
   "metadata": {},
   "outputs": [],
   "source": []
  },
  {
   "cell_type": "code",
   "execution_count": null,
   "id": "e2bdd9e1",
   "metadata": {},
   "outputs": [],
   "source": []
  },
  {
   "cell_type": "code",
   "execution_count": null,
   "id": "65424704",
   "metadata": {},
   "outputs": [],
   "source": []
  },
  {
   "cell_type": "code",
   "execution_count": null,
   "id": "d3473ff8",
   "metadata": {},
   "outputs": [],
   "source": []
  },
  {
   "cell_type": "code",
   "execution_count": null,
   "id": "5ca33119",
   "metadata": {},
   "outputs": [],
   "source": []
  },
  {
   "cell_type": "code",
   "execution_count": null,
   "id": "12f7147a",
   "metadata": {},
   "outputs": [],
   "source": []
  },
  {
   "cell_type": "code",
   "execution_count": null,
   "id": "e780106b",
   "metadata": {},
   "outputs": [],
   "source": []
  },
  {
   "cell_type": "code",
   "execution_count": null,
   "id": "3bae3a49",
   "metadata": {},
   "outputs": [],
   "source": []
  },
  {
   "cell_type": "code",
   "execution_count": null,
   "id": "0314a45c",
   "metadata": {},
   "outputs": [],
   "source": []
  },
  {
   "cell_type": "code",
   "execution_count": null,
   "id": "e6644384",
   "metadata": {},
   "outputs": [],
   "source": []
  },
  {
   "cell_type": "code",
   "execution_count": null,
   "id": "02ebe91d",
   "metadata": {},
   "outputs": [],
   "source": []
  },
  {
   "cell_type": "code",
   "execution_count": null,
   "id": "5a1edcaf",
   "metadata": {},
   "outputs": [],
   "source": []
  },
  {
   "cell_type": "code",
   "execution_count": null,
   "id": "1f030277",
   "metadata": {},
   "outputs": [],
   "source": []
  },
  {
   "cell_type": "markdown",
   "id": "fd71b049",
   "metadata": {},
   "source": []
  }
 ],
 "metadata": {
  "kernelspec": {
   "display_name": "Python 3 (ipykernel)",
   "language": "python",
   "name": "python3"
  },
  "language_info": {
   "codemirror_mode": {
    "name": "ipython",
    "version": 3
   },
   "file_extension": ".py",
   "mimetype": "text/x-python",
   "name": "python",
   "nbconvert_exporter": "python",
   "pygments_lexer": "ipython3",
   "version": "3.11.5"
  }
 },
 "nbformat": 4,
 "nbformat_minor": 5
}
